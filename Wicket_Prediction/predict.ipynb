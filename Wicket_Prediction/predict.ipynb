{
 "cells": [
  {
   "cell_type": "code",
   "execution_count": 1,
   "metadata": {},
   "outputs": [],
   "source": [
    "import predict"
   ]
  },
  {
   "cell_type": "code",
   "execution_count": 2,
   "metadata": {},
   "outputs": [
    {
     "name": "stdout",
     "output_type": "stream",
     "text": [
      "Probability of a wicket in  6  over is:  0.15\n",
      "Probability of a wicket in  7  over is:  0.14\n",
      "Probability of a wicket in  8  over is:  0.14\n",
      "Probability of a wicket in  9  over is:  0.18\n"
     ]
    }
   ],
   "source": [
    "bowler='R Bhatia'\n",
    "batsman='TS Mills'\n",
    "non_striker='Yuvraj Singh'\n",
    "over=5\n",
    "tot_wicket_till_now=1\n",
    "over_last_wicket=1\n",
    "predict.run(bowler, batsman, non_striker, over, tot_wicket_till_now, over_last_wicket)"
   ]
  },
  {
   "cell_type": "code",
   "execution_count": 3,
   "metadata": {},
   "outputs": [
    {
     "name": "stdout",
     "output_type": "stream",
     "text": [
      "Probability of a wicket in  15  over is:  0.09\n",
      "Probability of a wicket in  16  over is:  0.09\n",
      "Probability of a wicket in  17  over is:  0.11\n",
      "Probability of a wicket in  18  over is:  0.18\n"
     ]
    }
   ],
   "source": [
    "predict.run('Bipul Sharma', 'KL Rahul', 'AB de Villiers', 14, 3, 13)"
   ]
  }
 ],
 "metadata": {
  "kernelspec": {
   "display_name": "Python 3",
   "language": "python",
   "name": "python3"
  },
  "language_info": {
   "codemirror_mode": {
    "name": "ipython",
    "version": 3
   },
   "file_extension": ".py",
   "mimetype": "text/x-python",
   "name": "python",
   "nbconvert_exporter": "python",
   "pygments_lexer": "ipython3",
   "version": "3.7.4"
  }
 },
 "nbformat": 4,
 "nbformat_minor": 2
}
